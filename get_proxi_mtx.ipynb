{
 "cells": [
  {
   "cell_type": "code",
   "execution_count": 71,
   "metadata": {},
   "outputs": [
    {
     "data": {
      "text/plain": [
       "Index(['Color', 'Weather', 'Education', 'Test', 'Location', 'Grade'], dtype='object')"
      ]
     },
     "execution_count": 71,
     "metadata": {},
     "output_type": "execute_result"
    }
   ],
   "source": [
    "import pandas as pd\n",
    "import numpy as np\n",
    "\n",
    "\n",
    "color = [\"red\",\"green\",\"red\",\"blue\",\"green\"]\n",
    "weather = [\"sunny\",\"cloudy\",\"cloudy\",\"rainy\",\"sunny\"]\n",
    "education = [\"L\",\"H\",\"H\",\"H\",\"L\"]\n",
    "test = [\"P\",\"N\",\"P\",\"N\",\"P\"]\n",
    "location = [\"(1,8)\",\"(3,4)\",\"(5,7)\",\"(6,2)\",\"(9,10)\"]\n",
    "grade = [\"fair\",\"good\",\"excellent\",\"good\",\"fair\"]\n",
    "\n",
    "df = pd.DataFrame({\"Color\": color,\n",
    "                   \"Weather\": weather,\n",
    "                   \"Education\": education,\n",
    "                   \"Test\": test,\n",
    "                   \"Location\": location,\n",
    "                   \"Grade\": grade\n",
    "                  })\n",
    "df.head()\n",
    "df.columns"
   ]
  },
  {
   "cell_type": "code",
   "execution_count": null,
   "metadata": {},
   "outputs": [],
   "source": [
    "# -*- coding: utf-8 -*-\n",
    "# SIE 433/533 HW2 Problem 1\n",
    "\n",
    "def get_proxi_mtx(attribute, X):\n",
    "    \"\"\"\n",
    "    Generate a proximity matrix for different types of data\n",
    "    type: the attribute of the input data\n",
    "    X: data input array\n",
    "    proxi: output matrix\n",
    "    \"\"\"\n",
    "    attribute = X.columns\n",
    "# check the type\n",
    "    if type == \"Nominal\":\n",
    "        #using the formula in page 7 of Lecture 5\n",
    "        proxi = \n",
    "        \n",
    "    if type == \"Binary\":\n",
    "        #using the formula in page 9 of Lecture 5\n",
    "        proxi = \n",
    "        \n",
    "    if type == \"Numeric\":\n",
    "        #using the Euclidean distance in page 13 of Lecture 5\n",
    "        proxi = \n",
    "        \n",
    "    \n",
    "    if type == \"Ordinal\":\n",
    "        #using the formula in page 16 of Lecture 5\n",
    "        proxi = \n",
    "        \n",
    "    \n",
    "    if type == \"Mixed\":\n",
    "        #using the formula in page 18 of Lecture 5\n",
    "        proxi = \n",
    "    \n",
    "    return proxi"
   ]
  },
  {
   "cell_type": "code",
   "execution_count": 98,
   "metadata": {},
   "outputs": [
    {
     "name": "stdout",
     "output_type": "stream",
     "text": [
      "hit second\n",
      "Matches: 1\n",
      "hit second\n",
      "hit first\n",
      "hit second\n",
      "hit first\n",
      "hit second\n",
      "hit first\n",
      "hit second\n",
      "hit second\n",
      "hit first\n",
      "hit first\n",
      "hit second\n",
      "hit first\n",
      "hit second\n",
      "hit first\n",
      "hit second\n",
      "hit second\n",
      "hit first\n",
      "hit first\n",
      "hit second\n",
      "hit first\n",
      "hit second\n",
      "hit first\n",
      "hit second\n",
      "hit first\n",
      "hit second\n",
      "hit second\n",
      "hit first\n",
      "hit first\n",
      "hit second\n",
      "hit first\n",
      "hit second\n",
      "hit first\n",
      "hit second\n",
      "hit second\n",
      "hit first\n",
      "hit first\n",
      "hit second\n",
      "25\n",
      "[[0.  1.  0.5 1.  0.5]\n",
      " [1.  0.  0.5 1.  0.5]\n",
      " [0.5 0.5 0.  1.  1. ]\n",
      " [1.  1.  1.  0.  1. ]\n",
      " [0.5 0.5 1.  1.  0. ]]\n",
      "[[0.  1.  0.5 1.  0.5]\n",
      " [1.  0.  0.5 1.  0.5]\n",
      " [0.5 0.5 0.  1.  1. ]\n",
      " [1.  1.  1.  0.  1. ]\n",
      " [0.5 0.5 1.  1.  0. ]]\n"
     ]
    },
    {
     "data": {
      "text/html": [
       "<div>\n",
       "<style scoped>\n",
       "    .dataframe tbody tr th:only-of-type {\n",
       "        vertical-align: middle;\n",
       "    }\n",
       "\n",
       "    .dataframe tbody tr th {\n",
       "        vertical-align: top;\n",
       "    }\n",
       "\n",
       "    .dataframe thead th {\n",
       "        text-align: right;\n",
       "    }\n",
       "</style>\n",
       "<table border=\"1\" class=\"dataframe\">\n",
       "  <thead>\n",
       "    <tr style=\"text-align: right;\">\n",
       "      <th></th>\n",
       "      <th>Color</th>\n",
       "      <th>Weather</th>\n",
       "    </tr>\n",
       "  </thead>\n",
       "  <tbody>\n",
       "    <tr>\n",
       "      <th>0</th>\n",
       "      <td>red</td>\n",
       "      <td>sunny</td>\n",
       "    </tr>\n",
       "    <tr>\n",
       "      <th>1</th>\n",
       "      <td>green</td>\n",
       "      <td>cloudy</td>\n",
       "    </tr>\n",
       "    <tr>\n",
       "      <th>2</th>\n",
       "      <td>red</td>\n",
       "      <td>cloudy</td>\n",
       "    </tr>\n",
       "    <tr>\n",
       "      <th>3</th>\n",
       "      <td>blue</td>\n",
       "      <td>rainy</td>\n",
       "    </tr>\n",
       "    <tr>\n",
       "      <th>4</th>\n",
       "      <td>green</td>\n",
       "      <td>sunny</td>\n",
       "    </tr>\n",
       "  </tbody>\n",
       "</table>\n",
       "</div>"
      ],
      "text/plain": [
       "   Color Weather\n",
       "0    red   sunny\n",
       "1  green  cloudy\n",
       "2    red  cloudy\n",
       "3   blue   rainy\n",
       "4  green   sunny"
      ]
     },
     "execution_count": 98,
     "metadata": {},
     "output_type": "execute_result"
    }
   ],
   "source": [
    "# p = total number of attributes; m = number of matched attributes\n",
    "# d_i_j = (p-m)/p\n",
    "import itertools\n",
    "nominal_df = df[[\"Color\", \"Weather\"]]\n",
    "p = len(nominal_df.columns)\n",
    "obj_1 = nominal_df.iloc[[0]]\n",
    "obj_2 = nominal_df.iloc[[1]]\n",
    "obj_3 = nominal_df.iloc[[2]]\n",
    "obj_4 = nominal_df.iloc[[3]]\n",
    "obj_5 = nominal_df.iloc[[4]]\n",
    "\n",
    "objects = [obj_1,obj_2,obj_3,obj_4,obj_5]\n",
    "objects2 = [obj_1,obj_2,obj_3,obj_4,obj_5]\n",
    "\n",
    "def get_matches(a, b):\n",
    "    matched = 0\n",
    "    if a.iloc[0][\"Color\"] == b.iloc[0][\"Color\"]:\n",
    "        matched += 1\n",
    "        print(\"hit first\")\n",
    "    if a.iloc[0][\"Weather\"] == b.iloc[0][\"Weather\"]:\n",
    "        matched += 1\n",
    "        print(\"hit second\")\n",
    "    return matched\n",
    "print(\"Matches:\", get_matches(obj_2, obj_3))\n",
    "get_matches(obj_2, obj_3)\n",
    "\n",
    "def prox_nominal(n, m):\n",
    "    return (p-get_matches(n,m))/p\n",
    "\n",
    "# print(prox_nominal(obj_1))\n",
    "# print(prox_nominal(obj_2,obj_3))\n",
    "\n",
    "# final_matrix = []\n",
    "def do_the_thing():\n",
    "    final_matrix = []\n",
    "    for x in objects:\n",
    "        for y in objects2:\n",
    "            final_matrix.append(prox_nominal(x,y))\n",
    "    return final_matrix\n",
    "\n",
    "            \n",
    "# Asymmetric Proximity Measure for Binary Attributes\n",
    "#  d(i,j) = (m10 + m01)/(m11 + m10 + m01)\n",
    "\n",
    "\"\"\"Uncomment below later\"\"\"\n",
    "do_the_thing()\n",
    "print(len(do_the_thing()))\n",
    "print(final_matrix)\n",
    "final_matrix = np.reshape(final_matrix, (5,5))\n",
    "print(final_matrix)\n",
    "\n",
    "nominal_df.head()"
   ]
  },
  {
   "cell_type": "code",
   "execution_count": 100,
   "metadata": {},
   "outputs": [
    {
     "name": "stdout",
     "output_type": "stream",
     "text": [
      "1 0\n"
     ]
    },
    {
     "name": "stderr",
     "output_type": "stream",
     "text": [
      "//anaconda3/lib/python3.7/site-packages/ipykernel_launcher.py:6: SettingWithCopyWarning: \n",
      "A value is trying to be set on a copy of a slice from a DataFrame.\n",
      "Try using .loc[row_indexer,col_indexer] = value instead\n",
      "\n",
      "See the caveats in the documentation: http://pandas.pydata.org/pandas-docs/stable/indexing.html#indexing-view-versus-copy\n",
      "  \n",
      "//anaconda3/lib/python3.7/site-packages/ipykernel_launcher.py:7: SettingWithCopyWarning: \n",
      "A value is trying to be set on a copy of a slice from a DataFrame.\n",
      "Try using .loc[row_indexer,col_indexer] = value instead\n",
      "\n",
      "See the caveats in the documentation: http://pandas.pydata.org/pandas-docs/stable/indexing.html#indexing-view-versus-copy\n",
      "  import sys\n"
     ]
    }
   ],
   "source": [
    "# Asymmetric Proximity Measure for Binary Attributes\n",
    "#  d(i,j) = (m10 + m01)/(m11 + m10 + m01)\n",
    "\n",
    "asym_bin_df = df[[\"Education\", \"Test\"]]\n",
    "conversion_dict = {\"L\": 1,\"H\":0,\"P\":1,\"N\":0}\n",
    "asym_bin_df[\"Education\"] = df[\"Education\"].map(conversion_dict)\n",
    "asym_bin_df[\"Test\"] = df[\"Test\"].map(conversion_dict)\n",
    "asym_bin_df.head()\n",
    "obj_1 = asym_bin_df.iloc[[0]]\n",
    "obj_2 = asym_bin_df.iloc[[1]]\n",
    "obj_3 = asym_bin_df.iloc[[2]]\n",
    "obj_4 = asym_bin_df.iloc[[3]]\n",
    "obj_5 = asym_bin_df.iloc[[4]]\n",
    "\n",
    "\n",
    "def compare(a,b):\n",
    "    x,y =  a.iloc[0][\"Education\"], b.iloc[0][\"Education\"]\n",
    "    print(x,y)\n",
    "compare(obj_1, obj_2)"
   ]
  },
  {
   "cell_type": "code",
   "execution_count": 79,
   "metadata": {},
   "outputs": [
    {
     "name": "stdout",
     "output_type": "stream",
     "text": [
      "0.31298431857438064\n",
      "0.3129843185743806\n"
     ]
    }
   ],
   "source": [
    "# Question 2\n",
    "x = [0,2,0,0,0,6,0,3,0,0]\n",
    "y = [3,0,0,0,1,0,0,4,0,2]\n",
    "\n",
    "def magnitude(vector):\n",
    "    squared = []\n",
    "    for a in vector:\n",
    "        a = a**2\n",
    "        squared.append(a)\n",
    "    return sum(squared)**0.5\n",
    "\n",
    "def dot_product(vec_1, vec_2):\n",
    "    dp = []\n",
    "    for i in range(0, len(vec_1)):\n",
    "        z = vec_1[i] * vec_2[i]\n",
    "        dp.append(z)\n",
    "    return sum(dp)\n",
    "\n",
    "cosine_similarity = dot_product(x,y)/(magnitude(x) * magnitude(y))\n",
    "\n",
    "print(cosine_similarity)\n",
    "# To check the above implemtation, I used scipy module\n",
    "from scipy import spatial\n",
    "\n",
    "cos_sim = 1 - spatial.distance.cosine(x,y)\n",
    "print(cos_sim)"
   ]
  },
  {
   "cell_type": "code",
   "execution_count": 77,
   "metadata": {},
   "outputs": [
    {
     "name": "stdout",
     "output_type": "stream",
     "text": [
      "0.3129843185743806\n"
     ]
    }
   ],
   "source": []
  },
  {
   "cell_type": "code",
   "execution_count": null,
   "metadata": {},
   "outputs": [],
   "source": []
  },
  {
   "cell_type": "code",
   "execution_count": 92,
   "metadata": {},
   "outputs": [
    {
     "name": "stdout",
     "output_type": "stream",
     "text": [
      "10\n",
      "MinMax Normalization:  [0.     0.118  0.3387 0.4125 0.4386 0.4955 0.4988 0.6453 0.7059 1.    ]\n",
      "Z-Score Normalization:  [-1.7166 -1.2812 -0.467  -0.1948 -0.0987  0.1113  0.1233  0.664   0.8874\n",
      "  1.9723]\n"
     ]
    }
   ],
   "source": [
    "import numpy as np\n",
    "# Use the min-max and z-score normalization to transform the data below:\n",
    "A = [0.5152, 8.6806, 5.2893, -2.0385, 7.4494, 13.2321, 8.7511, 11.9218, 19.5940, 6.8857]\n",
    "print(len(A))\n",
    "\n",
    "# max-min normalization\n",
    "def minmax_norm(vector):\n",
    "    answer = []\n",
    "    vector.sort()\n",
    "    for num in vector:\n",
    "        answer.append((num - min(vector))/(max(vector)-min(vector)))\n",
    "    return answer\n",
    "\n",
    "rounded = np.round(minmax_norm(A),4)\n",
    "print(\"MinMax Normalization: \", rounded)\n",
    "\n",
    "# Z-Score Normalization\n",
    "def z_score(vector):\n",
    "    answer = []\n",
    "    vector.sort()\n",
    "    for num in vector:\n",
    "        answer.append((num - np.mean(vector))/np.std(vector))\n",
    "    return answer\n",
    "\n",
    "z_round = np.round(z_score(A),4)\n",
    "print(\"Z-Score Normalization: \", z_round)\n"
   ]
  },
  {
   "cell_type": "code",
   "execution_count": null,
   "metadata": {},
   "outputs": [],
   "source": []
  }
 ],
 "metadata": {
  "kernelspec": {
   "display_name": "Python 3",
   "language": "python",
   "name": "python3"
  },
  "language_info": {
   "codemirror_mode": {
    "name": "ipython",
    "version": 3
   },
   "file_extension": ".py",
   "mimetype": "text/x-python",
   "name": "python",
   "nbconvert_exporter": "python",
   "pygments_lexer": "ipython3",
   "version": "3.7.3"
  }
 },
 "nbformat": 4,
 "nbformat_minor": 2
}
